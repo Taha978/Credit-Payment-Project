{
 "cells": [
  {
   "cell_type": "markdown",
   "metadata": {},
   "source": [
    "## Data Analysis"
   ]
  },
  {
   "cell_type": "code",
   "execution_count": 2,
   "metadata": {},
   "outputs": [],
   "source": [
    "# Importing libraries\n",
    "import pandas as pd \n",
    "import seaborn as sns \n",
    "import warnings\n",
    "warnings.filterwarnings('ignore')\n",
    "from datetime import datetime as dt\n",
    "# Importing the dataframes \n",
    "credits=pd.read_excel('Credits.xlsx')\n",
    "clients=pd.read_excel('Clients.xlsx')\n",
    "schedule=pd.read_excel('Credit Schedule.xlsx')"
   ]
  },
  {
   "cell_type": "markdown",
   "metadata": {},
   "source": [
    "#### Credit Duration and Client Age Correlation"
   ]
  },
  {
   "cell_type": "markdown",
   "metadata": {},
   "source": [
    "###### How does the duration of a credit (from the Credits table) correlate with the client’s age ?"
   ]
  },
  {
   "cell_type": "code",
   "execution_count": 3,
   "metadata": {},
   "outputs": [
    {
     "data": {
      "text/html": [
       "<div>\n",
       "<style scoped>\n",
       "    .dataframe tbody tr th:only-of-type {\n",
       "        vertical-align: middle;\n",
       "    }\n",
       "\n",
       "    .dataframe tbody tr th {\n",
       "        vertical-align: top;\n",
       "    }\n",
       "\n",
       "    .dataframe thead th {\n",
       "        text-align: right;\n",
       "    }\n",
       "</style>\n",
       "<table border=\"1\" class=\"dataframe\">\n",
       "  <thead>\n",
       "    <tr style=\"text-align: right;\">\n",
       "      <th></th>\n",
       "      <th>ClientID</th>\n",
       "      <th>FirstName</th>\n",
       "      <th>LastName</th>\n",
       "      <th>BirthDate</th>\n",
       "      <th>Gender</th>\n",
       "      <th>AdressState</th>\n",
       "      <th>AgeYears</th>\n",
       "    </tr>\n",
       "  </thead>\n",
       "  <tbody>\n",
       "    <tr>\n",
       "      <th>0</th>\n",
       "      <td>CLT1</td>\n",
       "      <td>Christopher</td>\n",
       "      <td>Roberts</td>\n",
       "      <td>1998-04-10</td>\n",
       "      <td>M</td>\n",
       "      <td>AZ</td>\n",
       "      <td>27</td>\n",
       "    </tr>\n",
       "    <tr>\n",
       "      <th>1</th>\n",
       "      <td>CLT10</td>\n",
       "      <td>Zoe</td>\n",
       "      <td>Brooks</td>\n",
       "      <td>2000-01-05</td>\n",
       "      <td>F</td>\n",
       "      <td>SE</td>\n",
       "      <td>25</td>\n",
       "    </tr>\n",
       "    <tr>\n",
       "      <th>2</th>\n",
       "      <td>CLT100</td>\n",
       "      <td>Charles</td>\n",
       "      <td>Harrison</td>\n",
       "      <td>1985-01-04</td>\n",
       "      <td>M</td>\n",
       "      <td>AZ</td>\n",
       "      <td>40</td>\n",
       "    </tr>\n",
       "  </tbody>\n",
       "</table>\n",
       "</div>"
      ],
      "text/plain": [
       "  ClientID    FirstName  LastName  BirthDate Gender AdressState  AgeYears\n",
       "0     CLT1  Christopher   Roberts 1998-04-10      M          AZ        27\n",
       "1    CLT10          Zoe    Brooks 2000-01-05      F          SE        25\n",
       "2   CLT100      Charles  Harrison 1985-01-04      M          AZ        40"
      ]
     },
     "execution_count": 3,
     "metadata": {},
     "output_type": "execute_result"
    }
   ],
   "source": [
    "# We add the column age to the clients table\n",
    "clients['AgeYears']=[int(round(((dt.today()-clients.loc[i]['BirthDate']).days)/365,0)) for i in range(len(clients))]\n",
    "clients.head(3)"
   ]
  },
  {
   "cell_type": "code",
   "execution_count": 4,
   "metadata": {},
   "outputs": [
    {
     "data": {
      "text/html": [
       "<div>\n",
       "<style scoped>\n",
       "    .dataframe tbody tr th:only-of-type {\n",
       "        vertical-align: middle;\n",
       "    }\n",
       "\n",
       "    .dataframe tbody tr th {\n",
       "        vertical-align: top;\n",
       "    }\n",
       "\n",
       "    .dataframe thead th {\n",
       "        text-align: right;\n",
       "    }\n",
       "</style>\n",
       "<table border=\"1\" class=\"dataframe\">\n",
       "  <thead>\n",
       "    <tr style=\"text-align: right;\">\n",
       "      <th></th>\n",
       "      <th>CreditDurationMonths</th>\n",
       "      <th>AgeYears</th>\n",
       "    </tr>\n",
       "  </thead>\n",
       "  <tbody>\n",
       "    <tr>\n",
       "      <th>80</th>\n",
       "      <td>58</td>\n",
       "      <td>24</td>\n",
       "    </tr>\n",
       "    <tr>\n",
       "      <th>143</th>\n",
       "      <td>35</td>\n",
       "      <td>24</td>\n",
       "    </tr>\n",
       "    <tr>\n",
       "      <th>79</th>\n",
       "      <td>15</td>\n",
       "      <td>24</td>\n",
       "    </tr>\n",
       "  </tbody>\n",
       "</table>\n",
       "</div>"
      ],
      "text/plain": [
       "     CreditDurationMonths  AgeYears\n",
       "80                     58        24\n",
       "143                    35        24\n",
       "79                     15        24"
      ]
     },
     "execution_count": 4,
     "metadata": {},
     "output_type": "execute_result"
    }
   ],
   "source": [
    "# We merge the credits and clients dataframe to extract the two columns of which we will study the correlation\n",
    "age_duration=credits[['ClientID','CreditDurationMonths']].merge(clients[['ClientID','AgeYears']],on='ClientID',how='left').drop('ClientID',axis=1).sort_values(\n",
    "    by='AgeYears',ascending=True\n",
    ")\n",
    "age_duration.head(3)"
   ]
  },
  {
   "cell_type": "code",
   "execution_count": 5,
   "metadata": {},
   "outputs": [
    {
     "data": {
      "text/plain": [
       "<AxesSubplot:xlabel='CreditDurationMonths', ylabel='AgeYears'>"
      ]
     },
     "execution_count": 5,
     "metadata": {},
     "output_type": "execute_result"
    },
    {
     "data": {
      "image/png": "[encoded data removed]",
      "text/plain": [
       "<Figure size 432x288 with 1 Axes>"
      ]
     },
     "metadata": {
      "needs_background": "light"
     },
     "output_type": "display_data"
    }
   ],
   "source": [
    "# We plot the graph that displays the relationship between age and duration\n",
    "sns.scatterplot(data=age_duration[['CreditDurationMonths','AgeYears']],x='CreditDurationMonths',y='AgeYears')\n",
    "# The data points in the graph below are randomly scattered and do not follow a certain pattern. This is proof that the correlation between age and credit\n",
    "#duration is weak to none. In other words, the age of the client has a very weak influence on the credit duration"
   ]
  },
  {
   "cell_type": "markdown",
   "metadata": {},
   "source": [
    "#### Payment Timeliness by Credit Agent:"
   ]
  },
  {
   "cell_type": "markdown",
   "metadata": {},
   "source": [
    "###### Which agents are associated with more frequent late payments across clients?"
   ]
  },
  {
   "cell_type": "code",
   "execution_count": 6,
   "metadata": {},
   "outputs": [
    {
     "data": {
      "text/html": [
       "<div>\n",
       "<style scoped>\n",
       "    .dataframe tbody tr th:only-of-type {\n",
       "        vertical-align: middle;\n",
       "    }\n",
       "\n",
       "    .dataframe tbody tr th {\n",
       "        vertical-align: top;\n",
       "    }\n",
       "\n",
       "    .dataframe thead th {\n",
       "        text-align: right;\n",
       "    }\n",
       "</style>\n",
       "<table border=\"1\" class=\"dataframe\">\n",
       "  <thead>\n",
       "    <tr style=\"text-align: right;\">\n",
       "      <th></th>\n",
       "      <th>CreditID</th>\n",
       "      <th>CreditDurationMonths</th>\n",
       "      <th>CreditStatus</th>\n",
       "      <th>1</th>\n",
       "      <th>2</th>\n",
       "      <th>3</th>\n",
       "      <th>4</th>\n",
       "      <th>5</th>\n",
       "      <th>6</th>\n",
       "      <th>7</th>\n",
       "      <th>...</th>\n",
       "      <th>53</th>\n",
       "      <th>54</th>\n",
       "      <th>55</th>\n",
       "      <th>56</th>\n",
       "      <th>57</th>\n",
       "      <th>58</th>\n",
       "      <th>59</th>\n",
       "      <th>60</th>\n",
       "      <th>LatePayments</th>\n",
       "      <th>TotalPayments</th>\n",
       "    </tr>\n",
       "  </thead>\n",
       "  <tbody>\n",
       "    <tr>\n",
       "      <th>0</th>\n",
       "      <td>1000658</td>\n",
       "      <td>27</td>\n",
       "      <td>Active</td>\n",
       "      <td>-2</td>\n",
       "      <td>-1</td>\n",
       "      <td>3</td>\n",
       "      <td>0</td>\n",
       "      <td>5</td>\n",
       "      <td>1</td>\n",
       "      <td>5.0</td>\n",
       "      <td>...</td>\n",
       "      <td>NaN</td>\n",
       "      <td>NaN</td>\n",
       "      <td>NaN</td>\n",
       "      <td>NaN</td>\n",
       "      <td>NaN</td>\n",
       "      <td>NaN</td>\n",
       "      <td>NaN</td>\n",
       "      <td>NaN</td>\n",
       "      <td>14</td>\n",
       "      <td>20</td>\n",
       "    </tr>\n",
       "    <tr>\n",
       "      <th>1</th>\n",
       "      <td>1000920</td>\n",
       "      <td>13</td>\n",
       "      <td>Active</td>\n",
       "      <td>2</td>\n",
       "      <td>-1</td>\n",
       "      <td>3</td>\n",
       "      <td>-1</td>\n",
       "      <td>-2</td>\n",
       "      <td>4</td>\n",
       "      <td>-1.0</td>\n",
       "      <td>...</td>\n",
       "      <td>NaN</td>\n",
       "      <td>NaN</td>\n",
       "      <td>NaN</td>\n",
       "      <td>NaN</td>\n",
       "      <td>NaN</td>\n",
       "      <td>NaN</td>\n",
       "      <td>NaN</td>\n",
       "      <td>NaN</td>\n",
       "      <td>5</td>\n",
       "      <td>11</td>\n",
       "    </tr>\n",
       "    <tr>\n",
       "      <th>2</th>\n",
       "      <td>1000308</td>\n",
       "      <td>57</td>\n",
       "      <td>Active</td>\n",
       "      <td>-1</td>\n",
       "      <td>3</td>\n",
       "      <td>4</td>\n",
       "      <td>-2</td>\n",
       "      <td>2</td>\n",
       "      <td>0</td>\n",
       "      <td>4.0</td>\n",
       "      <td>...</td>\n",
       "      <td>NaN</td>\n",
       "      <td>NaN</td>\n",
       "      <td>NaN</td>\n",
       "      <td>NaN</td>\n",
       "      <td>NaN</td>\n",
       "      <td>NaN</td>\n",
       "      <td>NaN</td>\n",
       "      <td>NaN</td>\n",
       "      <td>25</td>\n",
       "      <td>42</td>\n",
       "    </tr>\n",
       "  </tbody>\n",
       "</table>\n",
       "<p>3 rows × 65 columns</p>\n",
       "</div>"
      ],
      "text/plain": [
       "   CreditID  CreditDurationMonths CreditStatus  1  2  3  4  5  6    7  ...  \\\n",
       "0   1000658                    27       Active -2 -1  3  0  5  1  5.0  ...   \n",
       "1   1000920                    13       Active  2 -1  3 -1 -2  4 -1.0  ...   \n",
       "2   1000308                    57       Active -1  3  4 -2  2  0  4.0  ...   \n",
       "\n",
       "   53  54  55  56  57  58  59  60  LatePayments  TotalPayments  \n",
       "0 NaN NaN NaN NaN NaN NaN NaN NaN            14             20  \n",
       "1 NaN NaN NaN NaN NaN NaN NaN NaN             5             11  \n",
       "2 NaN NaN NaN NaN NaN NaN NaN NaN            25             42  \n",
       "\n",
       "[3 rows x 65 columns]"
      ]
     },
     "execution_count": 6,
     "metadata": {},
     "output_type": "execute_result"
    }
   ],
   "source": [
    "# We add 2 columns to the dataframe: the number of total payments made per credit and the number of late payments per credit\n",
    "schedule_=schedule.drop(['CreditID','CreditDurationMonths','CreditStatus'],axis=1)\n",
    "def TotalPayment(df):\n",
    "    totalpayments=[]\n",
    "    for i in range(len(df)):\n",
    "        j=0\n",
    "        while j<len(df.columns) and str(df.iloc[i][j])!='nan':\n",
    "            j=j+1\n",
    "        totalpayments.append(j)\n",
    "    return totalpayments\n",
    "\n",
    "def LatePayment(df):\n",
    "    latepayments=[]\n",
    "    for i in range(len(df)):\n",
    "        lp=0\n",
    "        j=0\n",
    "        while j<len(df.columns) and str(df.iloc[i][j])!='nan':\n",
    "            if df.iloc[i][j]>0:\n",
    "                lp=lp+1\n",
    "            j=j+1\n",
    "        latepayments.append(lp)\n",
    "    return latepayments\n",
    "schedule['LatePayments']=LatePayment(schedule_)\n",
    "schedule['TotalPayments']=TotalPayment(schedule_)\n",
    "schedule.head(3)"
   ]
  },
  {
   "cell_type": "code",
   "execution_count": 7,
   "metadata": {},
   "outputs": [
    {
     "data": {
      "text/html": [
       "<div>\n",
       "<style scoped>\n",
       "    .dataframe tbody tr th:only-of-type {\n",
       "        vertical-align: middle;\n",
       "    }\n",
       "\n",
       "    .dataframe tbody tr th {\n",
       "        vertical-align: top;\n",
       "    }\n",
       "\n",
       "    .dataframe thead th {\n",
       "        text-align: right;\n",
       "    }\n",
       "</style>\n",
       "<table border=\"1\" class=\"dataframe\">\n",
       "  <thead>\n",
       "    <tr style=\"text-align: right;\">\n",
       "      <th></th>\n",
       "      <th>CreditAgent</th>\n",
       "      <th>TotalPayments</th>\n",
       "      <th>LatePayments</th>\n",
       "    </tr>\n",
       "  </thead>\n",
       "  <tbody>\n",
       "    <tr>\n",
       "      <th>1</th>\n",
       "      <td>EMMA.P</td>\n",
       "      <td>3205</td>\n",
       "      <td>1964</td>\n",
       "    </tr>\n",
       "    <tr>\n",
       "      <th>3</th>\n",
       "      <td>JOHN.D</td>\n",
       "      <td>2948</td>\n",
       "      <td>1811</td>\n",
       "    </tr>\n",
       "    <tr>\n",
       "      <th>4</th>\n",
       "      <td>LUCY.B</td>\n",
       "      <td>2845</td>\n",
       "      <td>1779</td>\n",
       "    </tr>\n",
       "    <tr>\n",
       "      <th>2</th>\n",
       "      <td>JAMES.W</td>\n",
       "      <td>2905</td>\n",
       "      <td>1777</td>\n",
       "    </tr>\n",
       "    <tr>\n",
       "      <th>5</th>\n",
       "      <td>MARY.S</td>\n",
       "      <td>2726</td>\n",
       "      <td>1654</td>\n",
       "    </tr>\n",
       "    <tr>\n",
       "      <th>0</th>\n",
       "      <td>DAVID.H</td>\n",
       "      <td>2693</td>\n",
       "      <td>1643</td>\n",
       "    </tr>\n",
       "    <tr>\n",
       "      <th>9</th>\n",
       "      <td>SARAH.L</td>\n",
       "      <td>2597</td>\n",
       "      <td>1622</td>\n",
       "    </tr>\n",
       "    <tr>\n",
       "      <th>6</th>\n",
       "      <td>MICHAEL.T</td>\n",
       "      <td>2455</td>\n",
       "      <td>1509</td>\n",
       "    </tr>\n",
       "    <tr>\n",
       "      <th>8</th>\n",
       "      <td>ROBERT.K</td>\n",
       "      <td>2246</td>\n",
       "      <td>1398</td>\n",
       "    </tr>\n",
       "    <tr>\n",
       "      <th>7</th>\n",
       "      <td>OLIVIA.M</td>\n",
       "      <td>2224</td>\n",
       "      <td>1373</td>\n",
       "    </tr>\n",
       "  </tbody>\n",
       "</table>\n",
       "</div>"
      ],
      "text/plain": [
       "  CreditAgent  TotalPayments  LatePayments\n",
       "1      EMMA.P           3205          1964\n",
       "3      JOHN.D           2948          1811\n",
       "4      LUCY.B           2845          1779\n",
       "2     JAMES.W           2905          1777\n",
       "5      MARY.S           2726          1654\n",
       "0     DAVID.H           2693          1643\n",
       "9     SARAH.L           2597          1622\n",
       "6   MICHAEL.T           2455          1509\n",
       "8    ROBERT.K           2246          1398\n",
       "7    OLIVIA.M           2224          1373"
      ]
     },
     "execution_count": 7,
     "metadata": {},
     "output_type": "execute_result"
    }
   ],
   "source": [
    "# We merge the credits table with the modified schedule table to compute the number of late payments per credit agent \n",
    "credit_creditagent=credits[['CreditID','CreditAgent']].merge(schedule[['CreditID','TotalPayments','LatePayments']],on='CreditID',how='left').drop('CreditID',axis=1)\n",
    "CreditAgentPerformance=credit_creditagent.groupby('CreditAgent').agg({'TotalPayments':'sum','LatePayments':'sum'}).reset_index().sort_values(by='LatePayments',ascending=False)\n",
    "CreditAgentPerformance\n",
    "# From the table below, EMNA.P is the credit agent with the greatest number of late payments. However, this does not allow to see the bigger picture.\n",
    "#Instead, computing the percentage of late payments (from the total number of payments made) is a more suitable approach"
   ]
  },
  {
   "cell_type": "code",
   "execution_count": 8,
   "metadata": {},
   "outputs": [
    {
     "data": {
      "text/html": [
       "<div>\n",
       "<style scoped>\n",
       "    .dataframe tbody tr th:only-of-type {\n",
       "        vertical-align: middle;\n",
       "    }\n",
       "\n",
       "    .dataframe tbody tr th {\n",
       "        vertical-align: top;\n",
       "    }\n",
       "\n",
       "    .dataframe thead th {\n",
       "        text-align: right;\n",
       "    }\n",
       "</style>\n",
       "<table border=\"1\" class=\"dataframe\">\n",
       "  <thead>\n",
       "    <tr style=\"text-align: right;\">\n",
       "      <th></th>\n",
       "      <th>CreditAgent</th>\n",
       "      <th>TotalPayments</th>\n",
       "      <th>LatePayments</th>\n",
       "      <th>PercentageLatePayments</th>\n",
       "    </tr>\n",
       "  </thead>\n",
       "  <tbody>\n",
       "    <tr>\n",
       "      <th>4</th>\n",
       "      <td>LUCY.B</td>\n",
       "      <td>2845</td>\n",
       "      <td>1779</td>\n",
       "      <td>62.53</td>\n",
       "    </tr>\n",
       "    <tr>\n",
       "      <th>9</th>\n",
       "      <td>SARAH.L</td>\n",
       "      <td>2597</td>\n",
       "      <td>1622</td>\n",
       "      <td>62.46</td>\n",
       "    </tr>\n",
       "    <tr>\n",
       "      <th>8</th>\n",
       "      <td>ROBERT.K</td>\n",
       "      <td>2246</td>\n",
       "      <td>1398</td>\n",
       "      <td>62.24</td>\n",
       "    </tr>\n",
       "    <tr>\n",
       "      <th>7</th>\n",
       "      <td>OLIVIA.M</td>\n",
       "      <td>2224</td>\n",
       "      <td>1373</td>\n",
       "      <td>61.74</td>\n",
       "    </tr>\n",
       "    <tr>\n",
       "      <th>6</th>\n",
       "      <td>MICHAEL.T</td>\n",
       "      <td>2455</td>\n",
       "      <td>1509</td>\n",
       "      <td>61.47</td>\n",
       "    </tr>\n",
       "    <tr>\n",
       "      <th>3</th>\n",
       "      <td>JOHN.D</td>\n",
       "      <td>2948</td>\n",
       "      <td>1811</td>\n",
       "      <td>61.43</td>\n",
       "    </tr>\n",
       "    <tr>\n",
       "      <th>1</th>\n",
       "      <td>EMMA.P</td>\n",
       "      <td>3205</td>\n",
       "      <td>1964</td>\n",
       "      <td>61.28</td>\n",
       "    </tr>\n",
       "    <tr>\n",
       "      <th>2</th>\n",
       "      <td>JAMES.W</td>\n",
       "      <td>2905</td>\n",
       "      <td>1777</td>\n",
       "      <td>61.17</td>\n",
       "    </tr>\n",
       "    <tr>\n",
       "      <th>0</th>\n",
       "      <td>DAVID.H</td>\n",
       "      <td>2693</td>\n",
       "      <td>1643</td>\n",
       "      <td>61.01</td>\n",
       "    </tr>\n",
       "    <tr>\n",
       "      <th>5</th>\n",
       "      <td>MARY.S</td>\n",
       "      <td>2726</td>\n",
       "      <td>1654</td>\n",
       "      <td>60.67</td>\n",
       "    </tr>\n",
       "  </tbody>\n",
       "</table>\n",
       "</div>"
      ],
      "text/plain": [
       "  CreditAgent  TotalPayments  LatePayments  PercentageLatePayments\n",
       "4      LUCY.B           2845          1779                   62.53\n",
       "9     SARAH.L           2597          1622                   62.46\n",
       "8    ROBERT.K           2246          1398                   62.24\n",
       "7    OLIVIA.M           2224          1373                   61.74\n",
       "6   MICHAEL.T           2455          1509                   61.47\n",
       "3      JOHN.D           2948          1811                   61.43\n",
       "1      EMMA.P           3205          1964                   61.28\n",
       "2     JAMES.W           2905          1777                   61.17\n",
       "0     DAVID.H           2693          1643                   61.01\n",
       "5      MARY.S           2726          1654                   60.67"
      ]
     },
     "execution_count": 8,
     "metadata": {},
     "output_type": "execute_result"
    }
   ],
   "source": [
    "# We add the percentage of late payments column\n",
    "CreditAgentPerformance['PercentageLatePayments']=(round((CreditAgentPerformance['LatePayments']/CreditAgentPerformance['TotalPayments'])*100,2))\n",
    "CreditAgentPerformance.sort_values(by='PercentageLatePayments',ascending=False)\n",
    "#The table below shows that LUCY.B has the highest percentage of late payments across all credits."
   ]
  },
  {
   "cell_type": "markdown",
   "metadata": {},
   "source": [
    "#### Credit Performance by State"
   ]
  },
  {
   "cell_type": "markdown",
   "metadata": {},
   "source": [
    "######  Are certain regions more likely to have timely payments compared to others?"
   ]
  },
  {
   "cell_type": "code",
   "execution_count": 9,
   "metadata": {},
   "outputs": [
    {
     "data": {
      "text/html": [
       "<div>\n",
       "<style scoped>\n",
       "    .dataframe tbody tr th:only-of-type {\n",
       "        vertical-align: middle;\n",
       "    }\n",
       "\n",
       "    .dataframe tbody tr th {\n",
       "        vertical-align: top;\n",
       "    }\n",
       "\n",
       "    .dataframe thead th {\n",
       "        text-align: right;\n",
       "    }\n",
       "</style>\n",
       "<table border=\"1\" class=\"dataframe\">\n",
       "  <thead>\n",
       "    <tr style=\"text-align: right;\">\n",
       "      <th></th>\n",
       "      <th>CreditID</th>\n",
       "      <th>CreditDurationMonths</th>\n",
       "      <th>CreditStatus</th>\n",
       "      <th>1</th>\n",
       "      <th>2</th>\n",
       "      <th>3</th>\n",
       "      <th>4</th>\n",
       "      <th>5</th>\n",
       "      <th>6</th>\n",
       "      <th>7</th>\n",
       "      <th>...</th>\n",
       "      <th>54</th>\n",
       "      <th>55</th>\n",
       "      <th>56</th>\n",
       "      <th>57</th>\n",
       "      <th>58</th>\n",
       "      <th>59</th>\n",
       "      <th>60</th>\n",
       "      <th>LatePayments</th>\n",
       "      <th>TotalPayments</th>\n",
       "      <th>TimelyPayments</th>\n",
       "    </tr>\n",
       "  </thead>\n",
       "  <tbody>\n",
       "    <tr>\n",
       "      <th>0</th>\n",
       "      <td>1000658</td>\n",
       "      <td>27</td>\n",
       "      <td>Active</td>\n",
       "      <td>-2</td>\n",
       "      <td>-1</td>\n",
       "      <td>3</td>\n",
       "      <td>0</td>\n",
       "      <td>5</td>\n",
       "      <td>1</td>\n",
       "      <td>5.0</td>\n",
       "      <td>...</td>\n",
       "      <td>NaN</td>\n",
       "      <td>NaN</td>\n",
       "      <td>NaN</td>\n",
       "      <td>NaN</td>\n",
       "      <td>NaN</td>\n",
       "      <td>NaN</td>\n",
       "      <td>NaN</td>\n",
       "      <td>14</td>\n",
       "      <td>20</td>\n",
       "      <td>6</td>\n",
       "    </tr>\n",
       "    <tr>\n",
       "      <th>1</th>\n",
       "      <td>1000920</td>\n",
       "      <td>13</td>\n",
       "      <td>Active</td>\n",
       "      <td>2</td>\n",
       "      <td>-1</td>\n",
       "      <td>3</td>\n",
       "      <td>-1</td>\n",
       "      <td>-2</td>\n",
       "      <td>4</td>\n",
       "      <td>-1.0</td>\n",
       "      <td>...</td>\n",
       "      <td>NaN</td>\n",
       "      <td>NaN</td>\n",
       "      <td>NaN</td>\n",
       "      <td>NaN</td>\n",
       "      <td>NaN</td>\n",
       "      <td>NaN</td>\n",
       "      <td>NaN</td>\n",
       "      <td>5</td>\n",
       "      <td>11</td>\n",
       "      <td>6</td>\n",
       "    </tr>\n",
       "    <tr>\n",
       "      <th>2</th>\n",
       "      <td>1000308</td>\n",
       "      <td>57</td>\n",
       "      <td>Active</td>\n",
       "      <td>-1</td>\n",
       "      <td>3</td>\n",
       "      <td>4</td>\n",
       "      <td>-2</td>\n",
       "      <td>2</td>\n",
       "      <td>0</td>\n",
       "      <td>4.0</td>\n",
       "      <td>...</td>\n",
       "      <td>NaN</td>\n",
       "      <td>NaN</td>\n",
       "      <td>NaN</td>\n",
       "      <td>NaN</td>\n",
       "      <td>NaN</td>\n",
       "      <td>NaN</td>\n",
       "      <td>NaN</td>\n",
       "      <td>25</td>\n",
       "      <td>42</td>\n",
       "      <td>17</td>\n",
       "    </tr>\n",
       "  </tbody>\n",
       "</table>\n",
       "<p>3 rows × 66 columns</p>\n",
       "</div>"
      ],
      "text/plain": [
       "   CreditID  CreditDurationMonths CreditStatus  1  2  3  4  5  6    7  ...  \\\n",
       "0   1000658                    27       Active -2 -1  3  0  5  1  5.0  ...   \n",
       "1   1000920                    13       Active  2 -1  3 -1 -2  4 -1.0  ...   \n",
       "2   1000308                    57       Active -1  3  4 -2  2  0  4.0  ...   \n",
       "\n",
       "   54  55  56  57  58  59  60  LatePayments  TotalPayments  TimelyPayments  \n",
       "0 NaN NaN NaN NaN NaN NaN NaN            14             20               6  \n",
       "1 NaN NaN NaN NaN NaN NaN NaN             5             11               6  \n",
       "2 NaN NaN NaN NaN NaN NaN NaN            25             42              17  \n",
       "\n",
       "[3 rows x 66 columns]"
      ]
     },
     "execution_count": 9,
     "metadata": {},
     "output_type": "execute_result"
    }
   ],
   "source": [
    "# We first create a column that displays the number of timely payments\n",
    "schedule['TimelyPayments']=(schedule['TotalPayments']-schedule['LatePayments'])\n",
    "schedule.head(3)"
   ]
  },
  {
   "cell_type": "code",
   "execution_count": 10,
   "metadata": {},
   "outputs": [
    {
     "data": {
      "text/html": [
       "<div>\n",
       "<style scoped>\n",
       "    .dataframe tbody tr th:only-of-type {\n",
       "        vertical-align: middle;\n",
       "    }\n",
       "\n",
       "    .dataframe tbody tr th {\n",
       "        vertical-align: top;\n",
       "    }\n",
       "\n",
       "    .dataframe thead th {\n",
       "        text-align: right;\n",
       "    }\n",
       "</style>\n",
       "<table border=\"1\" class=\"dataframe\">\n",
       "  <thead>\n",
       "    <tr style=\"text-align: right;\">\n",
       "      <th></th>\n",
       "      <th>CreditID</th>\n",
       "      <th>ClientID</th>\n",
       "      <th>TotalPayments</th>\n",
       "      <th>TimelyPayments</th>\n",
       "    </tr>\n",
       "  </thead>\n",
       "  <tbody>\n",
       "    <tr>\n",
       "      <th>0</th>\n",
       "      <td>1000001</td>\n",
       "      <td>CLT1</td>\n",
       "      <td>29</td>\n",
       "      <td>10</td>\n",
       "    </tr>\n",
       "    <tr>\n",
       "      <th>1</th>\n",
       "      <td>1000002</td>\n",
       "      <td>CLT115</td>\n",
       "      <td>24</td>\n",
       "      <td>9</td>\n",
       "    </tr>\n",
       "    <tr>\n",
       "      <th>2</th>\n",
       "      <td>1000003</td>\n",
       "      <td>CLT165</td>\n",
       "      <td>33</td>\n",
       "      <td>10</td>\n",
       "    </tr>\n",
       "  </tbody>\n",
       "</table>\n",
       "</div>"
      ],
      "text/plain": [
       "   CreditID ClientID  TotalPayments  TimelyPayments\n",
       "0   1000001     CLT1             29              10\n",
       "1   1000002   CLT115             24               9\n",
       "2   1000003   CLT165             33              10"
      ]
     },
     "execution_count": 10,
     "metadata": {},
     "output_type": "execute_result"
    }
   ],
   "source": [
    "# We first merge the credits table with the schedule table to get the late payments and total payments by client\n",
    "credit_schedule=credits[['CreditID','ClientID']].merge(schedule[['CreditID','TotalPayments','TimelyPayments']],on='CreditID',how='left')\n",
    "credit_schedule.head(3)"
   ]
  },
  {
   "cell_type": "code",
   "execution_count": 11,
   "metadata": {},
   "outputs": [
    {
     "data": {
      "text/html": [
       "<div>\n",
       "<style scoped>\n",
       "    .dataframe tbody tr th:only-of-type {\n",
       "        vertical-align: middle;\n",
       "    }\n",
       "\n",
       "    .dataframe tbody tr th {\n",
       "        vertical-align: top;\n",
       "    }\n",
       "\n",
       "    .dataframe thead th {\n",
       "        text-align: right;\n",
       "    }\n",
       "</style>\n",
       "<table border=\"1\" class=\"dataframe\">\n",
       "  <thead>\n",
       "    <tr style=\"text-align: right;\">\n",
       "      <th></th>\n",
       "      <th>AdressState</th>\n",
       "      <th>TotalPayments</th>\n",
       "      <th>TimelyPayments</th>\n",
       "    </tr>\n",
       "  </thead>\n",
       "  <tbody>\n",
       "    <tr>\n",
       "      <th>4</th>\n",
       "      <td>SE</td>\n",
       "      <td>5471</td>\n",
       "      <td>2111</td>\n",
       "    </tr>\n",
       "    <tr>\n",
       "      <th>1</th>\n",
       "      <td>AZ</td>\n",
       "      <td>5108</td>\n",
       "      <td>1970</td>\n",
       "    </tr>\n",
       "    <tr>\n",
       "      <th>5</th>\n",
       "      <td>TX</td>\n",
       "      <td>4988</td>\n",
       "      <td>1905</td>\n",
       "    </tr>\n",
       "    <tr>\n",
       "      <th>3</th>\n",
       "      <td>FL</td>\n",
       "      <td>4323</td>\n",
       "      <td>1652</td>\n",
       "    </tr>\n",
       "    <tr>\n",
       "      <th>2</th>\n",
       "      <td>CA</td>\n",
       "      <td>3681</td>\n",
       "      <td>1422</td>\n",
       "    </tr>\n",
       "    <tr>\n",
       "      <th>0</th>\n",
       "      <td>AL</td>\n",
       "      <td>3273</td>\n",
       "      <td>1254</td>\n",
       "    </tr>\n",
       "  </tbody>\n",
       "</table>\n",
       "</div>"
      ],
      "text/plain": [
       "  AdressState  TotalPayments  TimelyPayments\n",
       "4          SE           5471            2111\n",
       "1          AZ           5108            1970\n",
       "5          TX           4988            1905\n",
       "3          FL           4323            1652\n",
       "2          CA           3681            1422\n",
       "0          AL           3273            1254"
      ]
     },
     "execution_count": 11,
     "metadata": {},
     "output_type": "execute_result"
    }
   ],
   "source": [
    "# Now, we merge the created dataframe with the clients table to ger the client's info (state)\n",
    "credit_state=credit_schedule.merge(clients[['ClientID','AdressState']],on='ClientID',how='left').drop(['CreditID','ClientID'],axis=1)\n",
    "state_performance=credit_state.groupby('AdressState').agg({'TotalPayments':'sum','TimelyPayments':'sum'}).reset_index().sort_values(by='TimelyPayments',ascending=False)\n",
    "state_performance"
   ]
  },
  {
   "cell_type": "code",
   "execution_count": 12,
   "metadata": {},
   "outputs": [
    {
     "data": {
      "text/html": [
       "<div>\n",
       "<style scoped>\n",
       "    .dataframe tbody tr th:only-of-type {\n",
       "        vertical-align: middle;\n",
       "    }\n",
       "\n",
       "    .dataframe tbody tr th {\n",
       "        vertical-align: top;\n",
       "    }\n",
       "\n",
       "    .dataframe thead th {\n",
       "        text-align: right;\n",
       "    }\n",
       "</style>\n",
       "<table border=\"1\" class=\"dataframe\">\n",
       "  <thead>\n",
       "    <tr style=\"text-align: right;\">\n",
       "      <th></th>\n",
       "      <th>AdressState</th>\n",
       "      <th>TotalPayments</th>\n",
       "      <th>TimelyPayments</th>\n",
       "      <th>PercentageTimelyPayments</th>\n",
       "    </tr>\n",
       "  </thead>\n",
       "  <tbody>\n",
       "    <tr>\n",
       "      <th>4</th>\n",
       "      <td>SE</td>\n",
       "      <td>5471</td>\n",
       "      <td>2111</td>\n",
       "      <td>38.59</td>\n",
       "    </tr>\n",
       "    <tr>\n",
       "      <th>1</th>\n",
       "      <td>AZ</td>\n",
       "      <td>5108</td>\n",
       "      <td>1970</td>\n",
       "      <td>38.57</td>\n",
       "    </tr>\n",
       "    <tr>\n",
       "      <th>5</th>\n",
       "      <td>TX</td>\n",
       "      <td>4988</td>\n",
       "      <td>1905</td>\n",
       "      <td>38.19</td>\n",
       "    </tr>\n",
       "    <tr>\n",
       "      <th>3</th>\n",
       "      <td>FL</td>\n",
       "      <td>4323</td>\n",
       "      <td>1652</td>\n",
       "      <td>38.21</td>\n",
       "    </tr>\n",
       "    <tr>\n",
       "      <th>2</th>\n",
       "      <td>CA</td>\n",
       "      <td>3681</td>\n",
       "      <td>1422</td>\n",
       "      <td>38.63</td>\n",
       "    </tr>\n",
       "    <tr>\n",
       "      <th>0</th>\n",
       "      <td>AL</td>\n",
       "      <td>3273</td>\n",
       "      <td>1254</td>\n",
       "      <td>38.31</td>\n",
       "    </tr>\n",
       "  </tbody>\n",
       "</table>\n",
       "</div>"
      ],
      "text/plain": [
       "  AdressState  TotalPayments  TimelyPayments  PercentageTimelyPayments\n",
       "4          SE           5471            2111                     38.59\n",
       "1          AZ           5108            1970                     38.57\n",
       "5          TX           4988            1905                     38.19\n",
       "3          FL           4323            1652                     38.21\n",
       "2          CA           3681            1422                     38.63\n",
       "0          AL           3273            1254                     38.31"
      ]
     },
     "execution_count": 12,
     "metadata": {},
     "output_type": "execute_result"
    }
   ],
   "source": [
    "# We add a column that computes the percentage of late payments by state\n",
    "state_performance['PercentageTimelyPayments']=(round((state_performance['TimelyPayments']/state_performance['TotalPayments'])*100,2))\n",
    "state_performance.sort_values(by='PercentageTimelyPayments',ascending=False)\n",
    "state_performance\n",
    "# SEATTLE and ARIZONA are most likely to have timely payments than other states"
   ]
  },
  {
   "cell_type": "code",
   "execution_count": 13,
   "metadata": {},
   "outputs": [
    {
     "data": {
      "text/plain": [
       "<AxesSubplot:xlabel='AdressState', ylabel='PercentageTimelyPayments'>"
      ]
     },
     "execution_count": 13,
     "metadata": {},
     "output_type": "execute_result"
    },
    {
     "data": {
      "image/png": "[encoded data removed]",
      "text/plain": [
       "<Figure size 432x288 with 1 Axes>"
      ]
     },
     "metadata": {
      "needs_background": "light"
     },
     "output_type": "display_data"
    }
   ],
   "source": [
    "#Plotting the performance by state barplot\n",
    "state_names={'SE':'Seattle','AZ':'Arizona','TX':'Texas','FL':'Florida','CA':'California','AL':'Alabama'}\n",
    "state_performance['AdressState']=state_performance['AdressState'].map(state_names)\n",
    "sns.barplot(data=state_performance[['AdressState','PercentageTimelyPayments']],x='AdressState',y='PercentageTimelyPayments')"
   ]
  },
  {
   "cell_type": "markdown",
   "metadata": {},
   "source": [
    "#### Gender-Based Credit Analysis"
   ]
  },
  {
   "cell_type": "markdown",
   "metadata": {},
   "source": [
    "###### Average credit amount by Gender"
   ]
  },
  {
   "cell_type": "code",
   "execution_count": 14,
   "metadata": {},
   "outputs": [
    {
     "data": {
      "text/plain": [
       "<AxesSubplot:xlabel='Gender', ylabel='CreditAmount'>"
      ]
     },
     "execution_count": 14,
     "metadata": {},
     "output_type": "execute_result"
    },
    {
     "data": {
      "image/png": "[encoded data removed]",
      "text/plain": [
       "<Figure size 432x288 with 1 Axes>"
      ]
     },
     "metadata": {
      "needs_background": "light"
     },
     "output_type": "display_data"
    }
   ],
   "source": [
    "# We merge the credits and clients dataframes to get the gender value\n",
    "gender_amount=credits[['ClientID','CreditAmount']].merge(clients[['ClientID','Gender']],on='ClientID',how='left').drop('ClientID',axis=1)\n",
    "gender_amount=gender_amount.groupby('Gender').agg({'CreditAmount':'mean'}).reset_index().sort_values(by='CreditAmount',ascending=False)\n",
    "genders={'M':'Male','F':'Female'}\n",
    "gender_amount['Gender']=gender_amount['Gender'].map(genders)\n",
    "sns.barplot(data=gender_amount,x='Gender',y='CreditAmount')\n",
    "#The barplot shows that on average, womean borrow higher amounts than men"
   ]
  },
  {
   "cell_type": "markdown",
   "metadata": {},
   "source": [
    "###### Average credit duration by Gender"
   ]
  },
  {
   "cell_type": "code",
   "execution_count": 15,
   "metadata": {},
   "outputs": [
    {
     "data": {
      "text/plain": [
       "<AxesSubplot:xlabel='Gender', ylabel='CreditDurationMonths'>"
      ]
     },
     "execution_count": 15,
     "metadata": {},
     "output_type": "execute_result"
    },
    {
     "data": {
      "image/png": "[encoded data removed]",
      "text/plain": [
       "<Figure size 432x288 with 1 Axes>"
      ]
     },
     "metadata": {
      "needs_background": "light"
     },
     "output_type": "display_data"
    }
   ],
   "source": [
    "# We merge the credits and clients dataframes to get the gender value\n",
    "gender_duration=credits[['ClientID','CreditDurationMonths']].merge(clients[['ClientID','Gender']],on='ClientID',how='left').drop('ClientID',axis=1)\n",
    "gender_duration=gender_duration.groupby('Gender').agg({'CreditDurationMonths':'mean'}).reset_index().sort_values(by='CreditDurationMonths',ascending=False)\n",
    "genders={'M':'Male','F':'Female'}\n",
    "gender_duration['Gender']=gender_duration['Gender'].map(genders)\n",
    "sns.barplot(data=gender_duration,x='Gender',y='CreditDurationMonths')\n",
    "#The barplot shows that on average, womean tend to have higher credit duration than men"
   ]
  }
 ],
 "metadata": {
  "kernelspec": {
   "display_name": "Python 3",
   "language": "python",
   "name": "python3"
  },
  "language_info": {
   "codemirror_mode": {
    "name": "ipython",
    "version": 3
   },
   "file_extension": ".py",
   "mimetype": "text/x-python",
   "name": "python",
   "nbconvert_exporter": "python",
   "pygments_lexer": "ipython3",
   "version": "3.9.13"
  }
 },
 "nbformat": 4,
 "nbformat_minor": 2
}
