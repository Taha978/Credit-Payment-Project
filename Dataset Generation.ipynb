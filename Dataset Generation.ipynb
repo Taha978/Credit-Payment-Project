{
 "cells": [
  {
   "cell_type": "markdown",
   "metadata": {},
   "source": [
    "### Importing Libraries"
   ]
  },
  {
   "cell_type": "code",
   "execution_count": 10,
   "metadata": {},
   "outputs": [],
   "source": [
    "# Importing libraries\n",
    "import pandas as pd\n",
    "import pyodbc\n",
    "import warnings\n",
    "warnings.filterwarnings(\"ignore\")"
   ]
  },
  {
   "cell_type": "markdown",
   "metadata": {},
   "source": [
    "### Configuring Connection to SQL Server database"
   ]
  },
  {
   "cell_type": "code",
   "execution_count": 2,
   "metadata": {},
   "outputs": [],
   "source": [
    "connection_string=(\n",
    "\n",
    "    'DRIVER={ODBC Driver 17 for SQL Server};'\n",
    "    'SERVER=DESKTOP-UMU2JD1\\SQLEXPRESS;'\n",
    "    'DATABASE=CreditPayment;'\n",
    "    'Trusted_Connection=yes;'\n",
    ")\n",
    "connection=pyodbc.connect(connection_string)"
   ]
  },
  {
   "cell_type": "markdown",
   "metadata": {},
   "source": [
    "### Generating Datasets"
   ]
  },
  {
   "cell_type": "code",
   "execution_count": 11,
   "metadata": {},
   "outputs": [],
   "source": [
    "# Retrieving data from credits table \n",
    "query1=\"select * from CREDITS\"\n",
    "df1=pd.read_sql(query1,connection)\n",
    "df1.to_excel('Credits.xlsx')\n",
    "\n",
    "# Retrieving data from clients' table\n",
    "query2=\"select * from CLIENTS\"\n",
    "df2=pd.read_sql(query1,connection)\n",
    "df2.to_excel('Clients.xlsx')\n",
    "\n",
    "# Retrieving data from Credit Schedule table (with pivoting)\n",
    "query3=\"\"\"select * from\n",
    "(select cs.CreditID,CreditDurationMonths,\n",
    "(case when CreditStatus='D' then 'Defaulted' when CreditStatus='A' then 'Active' when CreditStatus='C' then 'Completed' end ) as CreditStatus,\n",
    "InstallmentIndex,Datediff(DAY,InstallmentDate,PaymentDate) as LatePayments from CREDITSCHEDULE cs\n",
    "left join CREDITS cr on cr.CreditID=cs.CreditID ) as b\n",
    "pivot \n",
    "(\n",
    "max(LatePayments) for InstallmentIndex in ([1],[2],[3],[4],[5],[6],[7],[8],[9],[10],\n",
    "[11],[12],[13],[14],[15],[16],[17],[18],[19],[20],[21],[22],[23],[24],[25],[26],[27],\n",
    "[28],[29],[30],[31],[32],[33],[34],[35],[36],[37],[38],[39],[40],[41],[42],[43],[44],\n",
    "[45],[46],[47],[48],[49],[50],[51],[52],[53],[54],[55],[56],[57],[58],[59],[60])\n",
    ") as p\n",
    "\"\"\"\n",
    "\n",
    "df3=pd.read_sql(query1,connection)\n",
    "df3.to_excel('Credit Schedule.xlsx')"
   ]
  }
 ],
 "metadata": {
  "kernelspec": {
   "display_name": "Python 3",
   "language": "python",
   "name": "python3"
  },
  "language_info": {
   "codemirror_mode": {
    "name": "ipython",
    "version": 3
   },
   "file_extension": ".py",
   "mimetype": "text/x-python",
   "name": "python",
   "nbconvert_exporter": "python",
   "pygments_lexer": "ipython3",
   "version": "3.9.13"
  }
 },
 "nbformat": 4,
 "nbformat_minor": 2
}
